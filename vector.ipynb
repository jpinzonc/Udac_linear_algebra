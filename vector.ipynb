{
 "cells": [
  {
   "cell_type": "code",
   "execution_count": 3,
   "metadata": {},
   "outputs": [],
   "source": [
    "#https://github.com/omarrayward/Linear-Algebra-Refresher-Udacity/blob/master/vector.py\n",
    "# Udacity no longer has the space to run the code. 20240707\n",
    "from math import acos, sqrt, pi\n",
    "from decimal import Decimal, getcontext\n",
    "\n",
    "getcontext().prec = 30\n",
    "\n",
    "\n",
    "class MyDecimal(Decimal):\n",
    "    def is_near_zero(self, eps=1e-10):\n",
    "        return abs(self) < eps\n",
    "\n",
    "\n",
    "class Vector(object):\n",
    "    def __init__(self, coordinates):\n",
    "        try:\n",
    "            if not coordinates:\n",
    "                raise ValueError\n",
    "            self.coordinates = tuple([Decimal(c) for c in coordinates])\n",
    "            self.dimension = len(coordinates)\n",
    "\n",
    "        except ValueError:\n",
    "            raise ValueError('The coordinates must be nonempty')\n",
    "\n",
    "        except TypeError:\n",
    "            raise TypeError('The coordinates must be an iterable')\n",
    "\n",
    "    def __iter__(self):\n",
    "        self.current = 0\n",
    "        return self\n",
    "\n",
    "    def __next__(self):\n",
    "        if self.current >= len(self.coordinates):\n",
    "            raise StopIteration\n",
    "        else:\n",
    "            current_value = self.coordinates[self.current]\n",
    "            self.current += 1\n",
    "            return current_value\n",
    "        \n",
    "    def next(self):\n",
    "        return self.__next__()\n",
    "\n",
    "    def __len__(self):\n",
    "        return len(self.coordinates)\n",
    "\n",
    "    def __getitem__(self, i):\n",
    "        return self.coordinates[i]\n",
    "\n",
    "    def __str__(self):\n",
    "        return 'Vector: {}'.format([round(coord, 3)\n",
    "                                    for coord in self.coordinates])\n",
    "\n",
    "    def __eq__(self, v):\n",
    "        return self.coordinates == v.coordinates\n",
    "\n",
    "    def is_zero(self):\n",
    "        return set(self.coordinates) == set([Decimal(0)])\n",
    "\n",
    "    def plus(self, other):\n",
    "        new_coordinates = [x + y for x, y in zip(self.coordinates, other.coordinates)]\n",
    "        return Vector(new_coordinates)\n",
    "\n",
    "    def minus(self, other):\n",
    "        return Vector([coords[0] - coords[1]\n",
    "                       for coords in zip(self.coordinates, other.coordinates)])\n",
    "\n",
    "    def times_scalar(self, factor):\n",
    "        return Vector([Decimal(factor) * coord for coord in self.coordinates])\n",
    "\n",
    "    def magnitude(self):\n",
    "        return Decimal(sqrt(sum([coord * coord\n",
    "                                 for coord in self.coordinates])))\n",
    "\n",
    "    def normalize(self):\n",
    "        try:\n",
    "            return self.times_scalar(Decimal('1.0') / self.magnitude())\n",
    "        except ZeroDivisionError:\n",
    "            raise Exception('Cannot normalize the zero vector')\n",
    "\n",
    "    def dot_product(self, other):\n",
    "        return sum(x * y for x, y in zip(self.coordinates, other.coordinates))\n",
    "\n",
    "    def get_angle_rad(self, other):\n",
    "        dot_prod = round(self.normalize().dot_product(other.normalize()), 3)\n",
    "        return acos(dot_prod)\n",
    "\n",
    "    def get_angle_deg(self, other):\n",
    "        degrees_per_rad = 180. / pi\n",
    "        return degrees_per_rad * self.get_angle_rad(other)\n",
    "\n",
    "    def is_parallel(self, other):\n",
    "        return (self.is_zero() or other.is_zero() or\n",
    "                self.get_angle_rad(other) in [0, pi])\n",
    "\n",
    "    def is_orthogonal(self, other):\n",
    "        return round(self.dot_product(other), 3) == 0\n",
    "\n",
    "    def get_projected_vector(self, other):\n",
    "        \"\"\"\n",
    "        Gets projection of vector v in b\n",
    "        \"\"\"\n",
    "        b_normalized = other.normalize()\n",
    "        return b_normalized.times_scalar(self.dot_product(b_normalized))\n",
    "\n",
    "    def get_orthogonal_vector(self, other):\n",
    "        return self.minus(self.get_projected_vector(other))\n",
    "\n",
    "    def cross_product(self, other):\n",
    "        [x1, y1, z1] = self.coordinates\n",
    "        [x2, y2, z2] = other.coordinates\n",
    "        x = (y1 * z2) - (y2 * z1)\n",
    "        y = -((x1 * z2) - (x2 * z1))\n",
    "        z = (x1 * y2) - (x2 * y1)\n",
    "        return Vector([x, y, z])\n",
    "\n",
    "    def area_parallelogram(self, other):\n",
    "        return self.cross_product(other).magnitude()\n",
    "\n",
    "    def area_triangle(self, other):\n",
    "        return self.cross_product(other).magnitude() / 2\n"
   ]
  },
  {
   "cell_type": "code",
   "execution_count": 6,
   "metadata": {},
   "outputs": [
    {
     "name": "stdout",
     "output_type": "stream",
     "text": [
      "addition: Vector: [Decimal('4.000'), Decimal('3.000')]\n"
     ]
    }
   ],
   "source": [
    "# Vector Addition \n",
    "v = Vector([1, 2])\n",
    "w = Vector([3, 1])\n",
    "addition = v.plus(w)\n",
    "print('addition: {}'.format(addition))"
   ]
  },
  {
   "cell_type": "code",
   "execution_count": 13,
   "metadata": {},
   "outputs": [
    {
     "name": "stdout",
     "output_type": "stream",
     "text": [
      "subtraction: Vector: [Decimal('-4.000'), Decimal('2.000')]\n"
     ]
    }
   ],
   "source": [
    "# Vector Substraction \n",
    "v = Vector([1,3])\n",
    "w = Vector([5,1])\n",
    "substraction = v.minus(w)\n",
    "subtraction = v.minus(w)\n",
    "print('subtraction: {}'.format(subtraction)) "
   ]
  },
  {
   "cell_type": "code",
   "execution_count": 19,
   "metadata": {},
   "outputs": [
    {
     "name": "stdout",
     "output_type": "stream",
     "text": [
      "multiplication: Vector: [Decimal('3.342'), Decimal('-2.024'), Decimal('-0.636')]\n"
     ]
    }
   ],
   "source": [
    "#Scaler multiplication \n",
    "v = Vector([1.671, -1.012, -0.318])\n",
    "multiplication = v.times_scalar(2)\n",
    "print('multiplication: {}'.format(multiplication))"
   ]
  },
  {
   "cell_type": "code",
   "execution_count": 22,
   "metadata": {},
   "outputs": [
    {
     "name": "stdout",
     "output_type": "stream",
     "text": [
      "first_magintude: 2.236\n"
     ]
    }
   ],
   "source": [
    "# Magnitude (How much movement it quatifies) and Direction (Where is is pointed)\n",
    "# Magnitude is the lenght of the vector. Use pytagoras. \n",
    "v = Vector([1,2])\n",
    "first_magnitude = v.magnitude()\n",
    "print('first_magintude: {}'.format(round(first_magnitude, 3)))\n",
    "\n"
   ]
  },
  {
   "cell_type": "code",
   "execution_count": 23,
   "metadata": {},
   "outputs": [
    {
     "data": {
      "text/plain": [
       "Decimal('4.47213595499957961010295548476278781890869140625')"
      ]
     },
     "execution_count": 23,
     "metadata": {},
     "output_type": "execute_result"
    }
   ],
   "source": [
    "v.times_scalar(2).magnitude()"
   ]
  },
  {
   "cell_type": "markdown",
   "metadata": {},
   "source": [
    "Cauchy-Schwarz Inequality"
   ]
  },
  {
   "cell_type": "code",
   "execution_count": null,
   "metadata": {},
   "outputs": [],
   "source": []
  }
 ],
 "metadata": {
  "kernelspec": {
   "display_name": "morgage",
   "language": "python",
   "name": "python3"
  },
  "language_info": {
   "codemirror_mode": {
    "name": "ipython",
    "version": 3
   },
   "file_extension": ".py",
   "mimetype": "text/x-python",
   "name": "python",
   "nbconvert_exporter": "python",
   "pygments_lexer": "ipython3",
   "version": "3.12.2"
  }
 },
 "nbformat": 4,
 "nbformat_minor": 2
}
